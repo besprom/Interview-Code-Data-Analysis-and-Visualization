{
 "cells": [
  {
   "cell_type": "code",
   "execution_count": null,
   "metadata": {},
   "outputs": [],
   "source": []
  },
  {
   "cell_type": "code",
   "execution_count": 23,
   "metadata": {},
   "outputs": [
    {
     "data": {
      "application/vnd.plotly.v1+json": {
       "config": {
        "plotlyServerURL": "https://plot.ly"
       },
       "data": [
        {
         "coloraxis": "coloraxis",
         "geo": "geo",
         "hovertemplate": "<b>%{hovertext}</b><br><br>country=%{location}<br>total score=%{z}<extra></extra>",
         "hovertext": [
          267,
          58,
          11,
          30,
          42,
          10,
          40,
          14,
          12,
          1,
          21,
          24,
          2,
          6,
          28,
          3,
          16,
          6,
          5,
          43,
          8,
          7,
          9,
          32,
          3,
          6,
          6,
          6,
          34,
          14,
          4,
          4,
          4,
          6,
          3,
          4,
          6,
          17,
          5,
          5,
          7,
          1,
          2,
          9,
          7,
          3,
          4,
          4,
          5,
          4,
          1,
          5,
          2,
          4,
          1,
          2,
          4,
          1,
          2,
          2,
          2,
          1,
          7,
          1,
          1,
          1,
          1,
          1,
          1,
          2,
          4,
          1,
          null,
          1,
          7,
          2,
          1,
          1,
          2,
          1,
          1,
          1,
          1,
          1,
          1,
          2,
          1,
          1,
          1,
          1,
          1,
          1,
          3,
          2,
          3,
          1,
          1,
          1,
          1,
          1,
          null
         ],
         "locationmode": "country names",
         "locations": [
          "United States",
          "United Kingdom",
          "Israel",
          "Canada",
          "Germany",
          "Sweden",
          "China",
          "Switzerland",
          "Australia",
          "Singapore",
          "The Netherlands",
          "France",
          "Estonia",
          "Finland",
          "Spain",
          "Lithuania",
          "Russia",
          "Ireland",
          "South Korea",
          "India",
          "Japan",
          "Denmark",
          "Belgium",
          "Brazil",
          "United Arab Emirates",
          "Taiwan",
          "Portugal",
          "Austria",
          "Italy",
          "Poland",
          "Norway",
          "Czechia",
          "New Zealand",
          "Ukraine",
          "Bulgaria",
          "Chile",
          "Croatia",
          "Mexico",
          "Argentina",
          "Malaysia",
          "Romania",
          "Latvia",
          "Luxembourg",
          "Turkey",
          "Indonesia",
          "Slovenia",
          "Colombia",
          "South Africa",
          "Hungary",
          "Thailand",
          "Uruguay",
          "Philippines",
          "Serbia",
          "Greece",
          "Iceland",
          "Slovakia",
          "Cyprus",
          "North Macedonia",
          "Vietnam",
          "Malta",
          "Kenya",
          "Peru",
          "Nigeria",
          "Jordan",
          "Armenia",
          "Bahrain",
          "Belarus",
          "Liechtenstein",
          "Rwanda",
          "Egypt",
          "Saudi Arabia",
          "Costa Rica",
          "Mauritius",
          "Lebanon",
          "Pakistan",
          "Kazakhstan",
          "Moldova",
          "Albania",
          "Jamaica",
          "Georgia",
          "Ghana",
          "Tunisia",
          "Panama",
          "Qatar",
          "Bosnia and Herzegovina",
          "Ecuador",
          "Cape Verde",
          "Mongolia",
          "Azerbaijan",
          "Kuwait",
          "Paraguay",
          "Sri Lanka",
          "Bangladesh",
          "Somalia",
          "Morocco",
          "Dominican Republic",
          "Uganda",
          "Nepal",
          "Namibia",
          "Ethiopia",
          "nan"
         ],
         "name": "",
         "type": "choropleth",
         "z": [
          124.42,
          28.719,
          27.741,
          19.875999999999998,
          17.053,
          15.423,
          15.128,
          14.943,
          13.835,
          13.745,
          13.7,
          13.286,
          12.427999999999999,
          11.582,
          11.145999999999999,
          9.992,
          9.812999999999999,
          9.633,
          8.888,
          8.833,
          8.709,
          8.368,
          7.359,
          7.3260000000000005,
          6.9510000000000005,
          6.946000000000001,
          6.939,
          6.936,
          6.602,
          6.515,
          6.386,
          6.226,
          5.865,
          5.705,
          5.209,
          4.976,
          4.907,
          4.8,
          4.613,
          4.4110000000000005,
          4.26,
          4.175,
          3.886,
          3.7230000000000003,
          3.657,
          3.6039999999999996,
          3.5469999999999997,
          3.5180000000000002,
          3.445,
          3.0810000000000004,
          3,
          2.852,
          2.68,
          2.5380000000000003,
          2.177,
          2.069,
          1.854,
          1.849,
          1.83,
          1.594,
          1.565,
          1.54,
          1.517,
          1.1079999999999999,
          1.078,
          0.946,
          0.9359999999999999,
          0.9229999999999999,
          0.9179999999999999,
          0.893,
          0.8640000000000001,
          0.586,
          0.517,
          0.499,
          0.489,
          0.46799999999999997,
          0.462,
          0.451,
          0.419,
          0.409,
          0.39899999999999997,
          0.395,
          0.355,
          0.35200000000000004,
          0.35100000000000003,
          0.33,
          0.319,
          0.314,
          0.309,
          0.259,
          0.253,
          0.245,
          0.24100000000000002,
          0.22399999999999998,
          0.22,
          0.19699999999999998,
          0.18,
          0.172,
          0.165,
          0.162,
          null
         ]
        }
       ],
       "layout": {
        "coloraxis": {
         "colorbar": {
          "title": {
           "text": "total score"
          }
         },
         "colorscale": [
          [
           0,
           "#0d0887"
          ],
          [
           0.1111111111111111,
           "#46039f"
          ],
          [
           0.2222222222222222,
           "#7201a8"
          ],
          [
           0.3333333333333333,
           "#9c179e"
          ],
          [
           0.4444444444444444,
           "#bd3786"
          ],
          [
           0.5555555555555556,
           "#d8576b"
          ],
          [
           0.6666666666666666,
           "#ed7953"
          ],
          [
           0.7777777777777778,
           "#fb9f3a"
          ],
          [
           0.8888888888888888,
           "#fdca26"
          ],
          [
           1,
           "#f0f921"
          ]
         ]
        },
        "geo": {
         "center": {},
         "domain": {
          "x": [
           0,
           1
          ],
          "y": [
           0,
           1
          ]
         }
        },
        "legend": {
         "tracegroupgap": 0
        },
        "template": {
         "data": {
          "bar": [
           {
            "error_x": {
             "color": "#2a3f5f"
            },
            "error_y": {
             "color": "#2a3f5f"
            },
            "marker": {
             "line": {
              "color": "#E5ECF6",
              "width": 0.5
             },
             "pattern": {
              "fillmode": "overlay",
              "size": 10,
              "solidity": 0.2
             }
            },
            "type": "bar"
           }
          ],
          "barpolar": [
           {
            "marker": {
             "line": {
              "color": "#E5ECF6",
              "width": 0.5
             },
             "pattern": {
              "fillmode": "overlay",
              "size": 10,
              "solidity": 0.2
             }
            },
            "type": "barpolar"
           }
          ],
          "carpet": [
           {
            "aaxis": {
             "endlinecolor": "#2a3f5f",
             "gridcolor": "white",
             "linecolor": "white",
             "minorgridcolor": "white",
             "startlinecolor": "#2a3f5f"
            },
            "baxis": {
             "endlinecolor": "#2a3f5f",
             "gridcolor": "white",
             "linecolor": "white",
             "minorgridcolor": "white",
             "startlinecolor": "#2a3f5f"
            },
            "type": "carpet"
           }
          ],
          "choropleth": [
           {
            "colorbar": {
             "outlinewidth": 0,
             "ticks": ""
            },
            "type": "choropleth"
           }
          ],
          "contour": [
           {
            "colorbar": {
             "outlinewidth": 0,
             "ticks": ""
            },
            "colorscale": [
             [
              0,
              "#0d0887"
             ],
             [
              0.1111111111111111,
              "#46039f"
             ],
             [
              0.2222222222222222,
              "#7201a8"
             ],
             [
              0.3333333333333333,
              "#9c179e"
             ],
             [
              0.4444444444444444,
              "#bd3786"
             ],
             [
              0.5555555555555556,
              "#d8576b"
             ],
             [
              0.6666666666666666,
              "#ed7953"
             ],
             [
              0.7777777777777778,
              "#fb9f3a"
             ],
             [
              0.8888888888888888,
              "#fdca26"
             ],
             [
              1,
              "#f0f921"
             ]
            ],
            "type": "contour"
           }
          ],
          "contourcarpet": [
           {
            "colorbar": {
             "outlinewidth": 0,
             "ticks": ""
            },
            "type": "contourcarpet"
           }
          ],
          "heatmap": [
           {
            "colorbar": {
             "outlinewidth": 0,
             "ticks": ""
            },
            "colorscale": [
             [
              0,
              "#0d0887"
             ],
             [
              0.1111111111111111,
              "#46039f"
             ],
             [
              0.2222222222222222,
              "#7201a8"
             ],
             [
              0.3333333333333333,
              "#9c179e"
             ],
             [
              0.4444444444444444,
              "#bd3786"
             ],
             [
              0.5555555555555556,
              "#d8576b"
             ],
             [
              0.6666666666666666,
              "#ed7953"
             ],
             [
              0.7777777777777778,
              "#fb9f3a"
             ],
             [
              0.8888888888888888,
              "#fdca26"
             ],
             [
              1,
              "#f0f921"
             ]
            ],
            "type": "heatmap"
           }
          ],
          "heatmapgl": [
           {
            "colorbar": {
             "outlinewidth": 0,
             "ticks": ""
            },
            "colorscale": [
             [
              0,
              "#0d0887"
             ],
             [
              0.1111111111111111,
              "#46039f"
             ],
             [
              0.2222222222222222,
              "#7201a8"
             ],
             [
              0.3333333333333333,
              "#9c179e"
             ],
             [
              0.4444444444444444,
              "#bd3786"
             ],
             [
              0.5555555555555556,
              "#d8576b"
             ],
             [
              0.6666666666666666,
              "#ed7953"
             ],
             [
              0.7777777777777778,
              "#fb9f3a"
             ],
             [
              0.8888888888888888,
              "#fdca26"
             ],
             [
              1,
              "#f0f921"
             ]
            ],
            "type": "heatmapgl"
           }
          ],
          "histogram": [
           {
            "marker": {
             "pattern": {
              "fillmode": "overlay",
              "size": 10,
              "solidity": 0.2
             }
            },
            "type": "histogram"
           }
          ],
          "histogram2d": [
           {
            "colorbar": {
             "outlinewidth": 0,
             "ticks": ""
            },
            "colorscale": [
             [
              0,
              "#0d0887"
             ],
             [
              0.1111111111111111,
              "#46039f"
             ],
             [
              0.2222222222222222,
              "#7201a8"
             ],
             [
              0.3333333333333333,
              "#9c179e"
             ],
             [
              0.4444444444444444,
              "#bd3786"
             ],
             [
              0.5555555555555556,
              "#d8576b"
             ],
             [
              0.6666666666666666,
              "#ed7953"
             ],
             [
              0.7777777777777778,
              "#fb9f3a"
             ],
             [
              0.8888888888888888,
              "#fdca26"
             ],
             [
              1,
              "#f0f921"
             ]
            ],
            "type": "histogram2d"
           }
          ],
          "histogram2dcontour": [
           {
            "colorbar": {
             "outlinewidth": 0,
             "ticks": ""
            },
            "colorscale": [
             [
              0,
              "#0d0887"
             ],
             [
              0.1111111111111111,
              "#46039f"
             ],
             [
              0.2222222222222222,
              "#7201a8"
             ],
             [
              0.3333333333333333,
              "#9c179e"
             ],
             [
              0.4444444444444444,
              "#bd3786"
             ],
             [
              0.5555555555555556,
              "#d8576b"
             ],
             [
              0.6666666666666666,
              "#ed7953"
             ],
             [
              0.7777777777777778,
              "#fb9f3a"
             ],
             [
              0.8888888888888888,
              "#fdca26"
             ],
             [
              1,
              "#f0f921"
             ]
            ],
            "type": "histogram2dcontour"
           }
          ],
          "mesh3d": [
           {
            "colorbar": {
             "outlinewidth": 0,
             "ticks": ""
            },
            "type": "mesh3d"
           }
          ],
          "parcoords": [
           {
            "line": {
             "colorbar": {
              "outlinewidth": 0,
              "ticks": ""
             }
            },
            "type": "parcoords"
           }
          ],
          "pie": [
           {
            "automargin": true,
            "type": "pie"
           }
          ],
          "scatter": [
           {
            "marker": {
             "colorbar": {
              "outlinewidth": 0,
              "ticks": ""
             }
            },
            "type": "scatter"
           }
          ],
          "scatter3d": [
           {
            "line": {
             "colorbar": {
              "outlinewidth": 0,
              "ticks": ""
             }
            },
            "marker": {
             "colorbar": {
              "outlinewidth": 0,
              "ticks": ""
             }
            },
            "type": "scatter3d"
           }
          ],
          "scattercarpet": [
           {
            "marker": {
             "colorbar": {
              "outlinewidth": 0,
              "ticks": ""
             }
            },
            "type": "scattercarpet"
           }
          ],
          "scattergeo": [
           {
            "marker": {
             "colorbar": {
              "outlinewidth": 0,
              "ticks": ""
             }
            },
            "type": "scattergeo"
           }
          ],
          "scattergl": [
           {
            "marker": {
             "colorbar": {
              "outlinewidth": 0,
              "ticks": ""
             }
            },
            "type": "scattergl"
           }
          ],
          "scattermapbox": [
           {
            "marker": {
             "colorbar": {
              "outlinewidth": 0,
              "ticks": ""
             }
            },
            "type": "scattermapbox"
           }
          ],
          "scatterpolar": [
           {
            "marker": {
             "colorbar": {
              "outlinewidth": 0,
              "ticks": ""
             }
            },
            "type": "scatterpolar"
           }
          ],
          "scatterpolargl": [
           {
            "marker": {
             "colorbar": {
              "outlinewidth": 0,
              "ticks": ""
             }
            },
            "type": "scatterpolargl"
           }
          ],
          "scatterternary": [
           {
            "marker": {
             "colorbar": {
              "outlinewidth": 0,
              "ticks": ""
             }
            },
            "type": "scatterternary"
           }
          ],
          "surface": [
           {
            "colorbar": {
             "outlinewidth": 0,
             "ticks": ""
            },
            "colorscale": [
             [
              0,
              "#0d0887"
             ],
             [
              0.1111111111111111,
              "#46039f"
             ],
             [
              0.2222222222222222,
              "#7201a8"
             ],
             [
              0.3333333333333333,
              "#9c179e"
             ],
             [
              0.4444444444444444,
              "#bd3786"
             ],
             [
              0.5555555555555556,
              "#d8576b"
             ],
             [
              0.6666666666666666,
              "#ed7953"
             ],
             [
              0.7777777777777778,
              "#fb9f3a"
             ],
             [
              0.8888888888888888,
              "#fdca26"
             ],
             [
              1,
              "#f0f921"
             ]
            ],
            "type": "surface"
           }
          ],
          "table": [
           {
            "cells": {
             "fill": {
              "color": "#EBF0F8"
             },
             "line": {
              "color": "white"
             }
            },
            "header": {
             "fill": {
              "color": "#C8D4E3"
             },
             "line": {
              "color": "white"
             }
            },
            "type": "table"
           }
          ]
         },
         "layout": {
          "annotationdefaults": {
           "arrowcolor": "#2a3f5f",
           "arrowhead": 0,
           "arrowwidth": 1
          },
          "autotypenumbers": "strict",
          "coloraxis": {
           "colorbar": {
            "outlinewidth": 0,
            "ticks": ""
           }
          },
          "colorscale": {
           "diverging": [
            [
             0,
             "#8e0152"
            ],
            [
             0.1,
             "#c51b7d"
            ],
            [
             0.2,
             "#de77ae"
            ],
            [
             0.3,
             "#f1b6da"
            ],
            [
             0.4,
             "#fde0ef"
            ],
            [
             0.5,
             "#f7f7f7"
            ],
            [
             0.6,
             "#e6f5d0"
            ],
            [
             0.7,
             "#b8e186"
            ],
            [
             0.8,
             "#7fbc41"
            ],
            [
             0.9,
             "#4d9221"
            ],
            [
             1,
             "#276419"
            ]
           ],
           "sequential": [
            [
             0,
             "#0d0887"
            ],
            [
             0.1111111111111111,
             "#46039f"
            ],
            [
             0.2222222222222222,
             "#7201a8"
            ],
            [
             0.3333333333333333,
             "#9c179e"
            ],
            [
             0.4444444444444444,
             "#bd3786"
            ],
            [
             0.5555555555555556,
             "#d8576b"
            ],
            [
             0.6666666666666666,
             "#ed7953"
            ],
            [
             0.7777777777777778,
             "#fb9f3a"
            ],
            [
             0.8888888888888888,
             "#fdca26"
            ],
            [
             1,
             "#f0f921"
            ]
           ],
           "sequentialminus": [
            [
             0,
             "#0d0887"
            ],
            [
             0.1111111111111111,
             "#46039f"
            ],
            [
             0.2222222222222222,
             "#7201a8"
            ],
            [
             0.3333333333333333,
             "#9c179e"
            ],
            [
             0.4444444444444444,
             "#bd3786"
            ],
            [
             0.5555555555555556,
             "#d8576b"
            ],
            [
             0.6666666666666666,
             "#ed7953"
            ],
            [
             0.7777777777777778,
             "#fb9f3a"
            ],
            [
             0.8888888888888888,
             "#fdca26"
            ],
            [
             1,
             "#f0f921"
            ]
           ]
          },
          "colorway": [
           "#636efa",
           "#EF553B",
           "#00cc96",
           "#ab63fa",
           "#FFA15A",
           "#19d3f3",
           "#FF6692",
           "#B6E880",
           "#FF97FF",
           "#FECB52"
          ],
          "font": {
           "color": "#2a3f5f"
          },
          "geo": {
           "bgcolor": "white",
           "lakecolor": "white",
           "landcolor": "#E5ECF6",
           "showlakes": true,
           "showland": true,
           "subunitcolor": "white"
          },
          "hoverlabel": {
           "align": "left"
          },
          "hovermode": "closest",
          "mapbox": {
           "style": "light"
          },
          "paper_bgcolor": "white",
          "plot_bgcolor": "#E5ECF6",
          "polar": {
           "angularaxis": {
            "gridcolor": "white",
            "linecolor": "white",
            "ticks": ""
           },
           "bgcolor": "#E5ECF6",
           "radialaxis": {
            "gridcolor": "white",
            "linecolor": "white",
            "ticks": ""
           }
          },
          "scene": {
           "xaxis": {
            "backgroundcolor": "#E5ECF6",
            "gridcolor": "white",
            "gridwidth": 2,
            "linecolor": "white",
            "showbackground": true,
            "ticks": "",
            "zerolinecolor": "white"
           },
           "yaxis": {
            "backgroundcolor": "#E5ECF6",
            "gridcolor": "white",
            "gridwidth": 2,
            "linecolor": "white",
            "showbackground": true,
            "ticks": "",
            "zerolinecolor": "white"
           },
           "zaxis": {
            "backgroundcolor": "#E5ECF6",
            "gridcolor": "white",
            "gridwidth": 2,
            "linecolor": "white",
            "showbackground": true,
            "ticks": "",
            "zerolinecolor": "white"
           }
          },
          "shapedefaults": {
           "line": {
            "color": "#2a3f5f"
           }
          },
          "ternary": {
           "aaxis": {
            "gridcolor": "white",
            "linecolor": "white",
            "ticks": ""
           },
           "baxis": {
            "gridcolor": "white",
            "linecolor": "white",
            "ticks": ""
           },
           "bgcolor": "#E5ECF6",
           "caxis": {
            "gridcolor": "white",
            "linecolor": "white",
            "ticks": ""
           }
          },
          "title": {
           "x": 0.05
          },
          "xaxis": {
           "automargin": true,
           "gridcolor": "white",
           "linecolor": "white",
           "ticks": "",
           "title": {
            "standoff": 15
           },
           "zerolinecolor": "white",
           "zerolinewidth": 2
          },
          "yaxis": {
           "automargin": true,
           "gridcolor": "white",
           "linecolor": "white",
           "ticks": "",
           "title": {
            "standoff": 15
           },
           "zerolinecolor": "white",
           "zerolinewidth": 2
          }
         }
        },
        "title": {
         "text": "Heat Map of Countries using 'Best Startup Countries' Total Scores and 'Best Startup City' Count"
        }
       }
      },
      "text/html": [
       "<div>                            <div id=\"8aba7b90-3242-48d7-9914-df0faa679284\" class=\"plotly-graph-div\" style=\"height:525px; width:100%;\"></div>            <script type=\"text/javascript\">                require([\"plotly\"], function(Plotly) {                    window.PLOTLYENV=window.PLOTLYENV || {};                                    if (document.getElementById(\"8aba7b90-3242-48d7-9914-df0faa679284\")) {                    Plotly.newPlot(                        \"8aba7b90-3242-48d7-9914-df0faa679284\",                        [{\"coloraxis\":\"coloraxis\",\"geo\":\"geo\",\"hovertemplate\":\"<b>%{hovertext}</b><br><br>country=%{location}<br>total score=%{z}<extra></extra>\",\"hovertext\":[267.0,58.0,11.0,30.0,42.0,10.0,40.0,14.0,12.0,1.0,21.0,24.0,2.0,6.0,28.0,3.0,16.0,6.0,5.0,43.0,8.0,7.0,9.0,32.0,3.0,6.0,6.0,6.0,34.0,14.0,4.0,4.0,4.0,6.0,3.0,4.0,6.0,17.0,5.0,5.0,7.0,1.0,2.0,9.0,7.0,3.0,4.0,4.0,5.0,4.0,1.0,5.0,2.0,4.0,1.0,2.0,4.0,1.0,2.0,2.0,2.0,1.0,7.0,1.0,1.0,1.0,1.0,1.0,1.0,2.0,4.0,1.0,null,1.0,7.0,2.0,1.0,1.0,2.0,1.0,1.0,1.0,1.0,1.0,1.0,2.0,1.0,1.0,1.0,1.0,1.0,1.0,3.0,2.0,3.0,1.0,1.0,1.0,1.0,1.0,null],\"locationmode\":\"country names\",\"locations\":[\"United States\",\"United Kingdom\",\"Israel\",\"Canada\",\"Germany\",\"Sweden\",\"China\",\"Switzerland\",\"Australia\",\"Singapore\",\"The Netherlands\",\"France\",\"Estonia\",\"Finland\",\"Spain\",\"Lithuania\",\"Russia\",\"Ireland\",\"South Korea\",\"India\",\"Japan\",\"Denmark\",\"Belgium\",\"Brazil\",\"United Arab Emirates\",\"Taiwan\",\"Portugal\",\"Austria\",\"Italy\",\"Poland\",\"Norway\",\"Czechia\",\"New Zealand\",\"Ukraine\",\"Bulgaria\",\"Chile\",\"Croatia\",\"Mexico\",\"Argentina\",\"Malaysia\",\"Romania\",\"Latvia\",\"Luxembourg\",\"Turkey\",\"Indonesia\",\"Slovenia\",\"Colombia\",\"South Africa\",\"Hungary\",\"Thailand\",\"Uruguay\",\"Philippines\",\"Serbia\",\"Greece\",\"Iceland\",\"Slovakia\",\"Cyprus\",\"North Macedonia\",\"Vietnam\",\"Malta\",\"Kenya\",\"Peru\",\"Nigeria\",\"Jordan\",\"Armenia\",\"Bahrain\",\"Belarus\",\"Liechtenstein\",\"Rwanda\",\"Egypt\",\"Saudi Arabia\",\"Costa Rica\",\"Mauritius\",\"Lebanon\",\"Pakistan\",\"Kazakhstan\",\"Moldova\",\"Albania\",\"Jamaica\",\"Georgia\",\"Ghana\",\"Tunisia\",\"Panama\",\"Qatar\",\"Bosnia and Herzegovina\",\"Ecuador\",\"Cape Verde\",\"Mongolia\",\"Azerbaijan\",\"Kuwait\",\"Paraguay\",\"Sri Lanka\",\"Bangladesh\",\"Somalia\",\"Morocco\",\"Dominican Republic\",\"Uganda\",\"Nepal\",\"Namibia\",\"Ethiopia\",\"nan\"],\"name\":\"\",\"z\":[124.42,28.719,27.741,19.875999999999998,17.053,15.423,15.128,14.943,13.835,13.745,13.7,13.286,12.427999999999999,11.582,11.145999999999999,9.992,9.812999999999999,9.633,8.888,8.833,8.709,8.368,7.359,7.3260000000000005,6.9510000000000005,6.946000000000001,6.939,6.936,6.602,6.515,6.386,6.226,5.865,5.705,5.209,4.976,4.907,4.8,4.613,4.4110000000000005,4.26,4.175,3.886,3.7230000000000003,3.657,3.6039999999999996,3.5469999999999997,3.5180000000000002,3.445,3.0810000000000004,3.0,2.852,2.68,2.5380000000000003,2.177,2.069,1.854,1.849,1.83,1.594,1.565,1.54,1.517,1.1079999999999999,1.078,0.946,0.9359999999999999,0.9229999999999999,0.9179999999999999,0.893,0.8640000000000001,0.586,0.517,0.499,0.489,0.46799999999999997,0.462,0.451,0.419,0.409,0.39899999999999997,0.395,0.355,0.35200000000000004,0.35100000000000003,0.33,0.319,0.314,0.309,0.259,0.253,0.245,0.24100000000000002,0.22399999999999998,0.22,0.19699999999999998,0.18,0.172,0.165,0.162,null],\"type\":\"choropleth\"}],                        {\"template\":{\"data\":{\"bar\":[{\"error_x\":{\"color\":\"#2a3f5f\"},\"error_y\":{\"color\":\"#2a3f5f\"},\"marker\":{\"line\":{\"color\":\"#E5ECF6\",\"width\":0.5},\"pattern\":{\"fillmode\":\"overlay\",\"size\":10,\"solidity\":0.2}},\"type\":\"bar\"}],\"barpolar\":[{\"marker\":{\"line\":{\"color\":\"#E5ECF6\",\"width\":0.5},\"pattern\":{\"fillmode\":\"overlay\",\"size\":10,\"solidity\":0.2}},\"type\":\"barpolar\"}],\"carpet\":[{\"aaxis\":{\"endlinecolor\":\"#2a3f5f\",\"gridcolor\":\"white\",\"linecolor\":\"white\",\"minorgridcolor\":\"white\",\"startlinecolor\":\"#2a3f5f\"},\"baxis\":{\"endlinecolor\":\"#2a3f5f\",\"gridcolor\":\"white\",\"linecolor\":\"white\",\"minorgridcolor\":\"white\",\"startlinecolor\":\"#2a3f5f\"},\"type\":\"carpet\"}],\"choropleth\":[{\"colorbar\":{\"outlinewidth\":0,\"ticks\":\"\"},\"type\":\"choropleth\"}],\"contour\":[{\"colorbar\":{\"outlinewidth\":0,\"ticks\":\"\"},\"colorscale\":[[0.0,\"#0d0887\"],[0.1111111111111111,\"#46039f\"],[0.2222222222222222,\"#7201a8\"],[0.3333333333333333,\"#9c179e\"],[0.4444444444444444,\"#bd3786\"],[0.5555555555555556,\"#d8576b\"],[0.6666666666666666,\"#ed7953\"],[0.7777777777777778,\"#fb9f3a\"],[0.8888888888888888,\"#fdca26\"],[1.0,\"#f0f921\"]],\"type\":\"contour\"}],\"contourcarpet\":[{\"colorbar\":{\"outlinewidth\":0,\"ticks\":\"\"},\"type\":\"contourcarpet\"}],\"heatmap\":[{\"colorbar\":{\"outlinewidth\":0,\"ticks\":\"\"},\"colorscale\":[[0.0,\"#0d0887\"],[0.1111111111111111,\"#46039f\"],[0.2222222222222222,\"#7201a8\"],[0.3333333333333333,\"#9c179e\"],[0.4444444444444444,\"#bd3786\"],[0.5555555555555556,\"#d8576b\"],[0.6666666666666666,\"#ed7953\"],[0.7777777777777778,\"#fb9f3a\"],[0.8888888888888888,\"#fdca26\"],[1.0,\"#f0f921\"]],\"type\":\"heatmap\"}],\"heatmapgl\":[{\"colorbar\":{\"outlinewidth\":0,\"ticks\":\"\"},\"colorscale\":[[0.0,\"#0d0887\"],[0.1111111111111111,\"#46039f\"],[0.2222222222222222,\"#7201a8\"],[0.3333333333333333,\"#9c179e\"],[0.4444444444444444,\"#bd3786\"],[0.5555555555555556,\"#d8576b\"],[0.6666666666666666,\"#ed7953\"],[0.7777777777777778,\"#fb9f3a\"],[0.8888888888888888,\"#fdca26\"],[1.0,\"#f0f921\"]],\"type\":\"heatmapgl\"}],\"histogram\":[{\"marker\":{\"pattern\":{\"fillmode\":\"overlay\",\"size\":10,\"solidity\":0.2}},\"type\":\"histogram\"}],\"histogram2d\":[{\"colorbar\":{\"outlinewidth\":0,\"ticks\":\"\"},\"colorscale\":[[0.0,\"#0d0887\"],[0.1111111111111111,\"#46039f\"],[0.2222222222222222,\"#7201a8\"],[0.3333333333333333,\"#9c179e\"],[0.4444444444444444,\"#bd3786\"],[0.5555555555555556,\"#d8576b\"],[0.6666666666666666,\"#ed7953\"],[0.7777777777777778,\"#fb9f3a\"],[0.8888888888888888,\"#fdca26\"],[1.0,\"#f0f921\"]],\"type\":\"histogram2d\"}],\"histogram2dcontour\":[{\"colorbar\":{\"outlinewidth\":0,\"ticks\":\"\"},\"colorscale\":[[0.0,\"#0d0887\"],[0.1111111111111111,\"#46039f\"],[0.2222222222222222,\"#7201a8\"],[0.3333333333333333,\"#9c179e\"],[0.4444444444444444,\"#bd3786\"],[0.5555555555555556,\"#d8576b\"],[0.6666666666666666,\"#ed7953\"],[0.7777777777777778,\"#fb9f3a\"],[0.8888888888888888,\"#fdca26\"],[1.0,\"#f0f921\"]],\"type\":\"histogram2dcontour\"}],\"mesh3d\":[{\"colorbar\":{\"outlinewidth\":0,\"ticks\":\"\"},\"type\":\"mesh3d\"}],\"parcoords\":[{\"line\":{\"colorbar\":{\"outlinewidth\":0,\"ticks\":\"\"}},\"type\":\"parcoords\"}],\"pie\":[{\"automargin\":true,\"type\":\"pie\"}],\"scatter\":[{\"marker\":{\"colorbar\":{\"outlinewidth\":0,\"ticks\":\"\"}},\"type\":\"scatter\"}],\"scatter3d\":[{\"line\":{\"colorbar\":{\"outlinewidth\":0,\"ticks\":\"\"}},\"marker\":{\"colorbar\":{\"outlinewidth\":0,\"ticks\":\"\"}},\"type\":\"scatter3d\"}],\"scattercarpet\":[{\"marker\":{\"colorbar\":{\"outlinewidth\":0,\"ticks\":\"\"}},\"type\":\"scattercarpet\"}],\"scattergeo\":[{\"marker\":{\"colorbar\":{\"outlinewidth\":0,\"ticks\":\"\"}},\"type\":\"scattergeo\"}],\"scattergl\":[{\"marker\":{\"colorbar\":{\"outlinewidth\":0,\"ticks\":\"\"}},\"type\":\"scattergl\"}],\"scattermapbox\":[{\"marker\":{\"colorbar\":{\"outlinewidth\":0,\"ticks\":\"\"}},\"type\":\"scattermapbox\"}],\"scatterpolar\":[{\"marker\":{\"colorbar\":{\"outlinewidth\":0,\"ticks\":\"\"}},\"type\":\"scatterpolar\"}],\"scatterpolargl\":[{\"marker\":{\"colorbar\":{\"outlinewidth\":0,\"ticks\":\"\"}},\"type\":\"scatterpolargl\"}],\"scatterternary\":[{\"marker\":{\"colorbar\":{\"outlinewidth\":0,\"ticks\":\"\"}},\"type\":\"scatterternary\"}],\"surface\":[{\"colorbar\":{\"outlinewidth\":0,\"ticks\":\"\"},\"colorscale\":[[0.0,\"#0d0887\"],[0.1111111111111111,\"#46039f\"],[0.2222222222222222,\"#7201a8\"],[0.3333333333333333,\"#9c179e\"],[0.4444444444444444,\"#bd3786\"],[0.5555555555555556,\"#d8576b\"],[0.6666666666666666,\"#ed7953\"],[0.7777777777777778,\"#fb9f3a\"],[0.8888888888888888,\"#fdca26\"],[1.0,\"#f0f921\"]],\"type\":\"surface\"}],\"table\":[{\"cells\":{\"fill\":{\"color\":\"#EBF0F8\"},\"line\":{\"color\":\"white\"}},\"header\":{\"fill\":{\"color\":\"#C8D4E3\"},\"line\":{\"color\":\"white\"}},\"type\":\"table\"}]},\"layout\":{\"annotationdefaults\":{\"arrowcolor\":\"#2a3f5f\",\"arrowhead\":0,\"arrowwidth\":1},\"autotypenumbers\":\"strict\",\"coloraxis\":{\"colorbar\":{\"outlinewidth\":0,\"ticks\":\"\"}},\"colorscale\":{\"diverging\":[[0,\"#8e0152\"],[0.1,\"#c51b7d\"],[0.2,\"#de77ae\"],[0.3,\"#f1b6da\"],[0.4,\"#fde0ef\"],[0.5,\"#f7f7f7\"],[0.6,\"#e6f5d0\"],[0.7,\"#b8e186\"],[0.8,\"#7fbc41\"],[0.9,\"#4d9221\"],[1,\"#276419\"]],\"sequential\":[[0.0,\"#0d0887\"],[0.1111111111111111,\"#46039f\"],[0.2222222222222222,\"#7201a8\"],[0.3333333333333333,\"#9c179e\"],[0.4444444444444444,\"#bd3786\"],[0.5555555555555556,\"#d8576b\"],[0.6666666666666666,\"#ed7953\"],[0.7777777777777778,\"#fb9f3a\"],[0.8888888888888888,\"#fdca26\"],[1.0,\"#f0f921\"]],\"sequentialminus\":[[0.0,\"#0d0887\"],[0.1111111111111111,\"#46039f\"],[0.2222222222222222,\"#7201a8\"],[0.3333333333333333,\"#9c179e\"],[0.4444444444444444,\"#bd3786\"],[0.5555555555555556,\"#d8576b\"],[0.6666666666666666,\"#ed7953\"],[0.7777777777777778,\"#fb9f3a\"],[0.8888888888888888,\"#fdca26\"],[1.0,\"#f0f921\"]]},\"colorway\":[\"#636efa\",\"#EF553B\",\"#00cc96\",\"#ab63fa\",\"#FFA15A\",\"#19d3f3\",\"#FF6692\",\"#B6E880\",\"#FF97FF\",\"#FECB52\"],\"font\":{\"color\":\"#2a3f5f\"},\"geo\":{\"bgcolor\":\"white\",\"lakecolor\":\"white\",\"landcolor\":\"#E5ECF6\",\"showlakes\":true,\"showland\":true,\"subunitcolor\":\"white\"},\"hoverlabel\":{\"align\":\"left\"},\"hovermode\":\"closest\",\"mapbox\":{\"style\":\"light\"},\"paper_bgcolor\":\"white\",\"plot_bgcolor\":\"#E5ECF6\",\"polar\":{\"angularaxis\":{\"gridcolor\":\"white\",\"linecolor\":\"white\",\"ticks\":\"\"},\"bgcolor\":\"#E5ECF6\",\"radialaxis\":{\"gridcolor\":\"white\",\"linecolor\":\"white\",\"ticks\":\"\"}},\"scene\":{\"xaxis\":{\"backgroundcolor\":\"#E5ECF6\",\"gridcolor\":\"white\",\"gridwidth\":2,\"linecolor\":\"white\",\"showbackground\":true,\"ticks\":\"\",\"zerolinecolor\":\"white\"},\"yaxis\":{\"backgroundcolor\":\"#E5ECF6\",\"gridcolor\":\"white\",\"gridwidth\":2,\"linecolor\":\"white\",\"showbackground\":true,\"ticks\":\"\",\"zerolinecolor\":\"white\"},\"zaxis\":{\"backgroundcolor\":\"#E5ECF6\",\"gridcolor\":\"white\",\"gridwidth\":2,\"linecolor\":\"white\",\"showbackground\":true,\"ticks\":\"\",\"zerolinecolor\":\"white\"}},\"shapedefaults\":{\"line\":{\"color\":\"#2a3f5f\"}},\"ternary\":{\"aaxis\":{\"gridcolor\":\"white\",\"linecolor\":\"white\",\"ticks\":\"\"},\"baxis\":{\"gridcolor\":\"white\",\"linecolor\":\"white\",\"ticks\":\"\"},\"bgcolor\":\"#E5ECF6\",\"caxis\":{\"gridcolor\":\"white\",\"linecolor\":\"white\",\"ticks\":\"\"}},\"title\":{\"x\":0.05},\"xaxis\":{\"automargin\":true,\"gridcolor\":\"white\",\"linecolor\":\"white\",\"ticks\":\"\",\"title\":{\"standoff\":15},\"zerolinecolor\":\"white\",\"zerolinewidth\":2},\"yaxis\":{\"automargin\":true,\"gridcolor\":\"white\",\"linecolor\":\"white\",\"ticks\":\"\",\"title\":{\"standoff\":15},\"zerolinecolor\":\"white\",\"zerolinewidth\":2}}},\"geo\":{\"domain\":{\"x\":[0.0,1.0],\"y\":[0.0,1.0]},\"center\":{}},\"coloraxis\":{\"colorbar\":{\"title\":{\"text\":\"total score\"}},\"colorscale\":[[0.0,\"#0d0887\"],[0.1111111111111111,\"#46039f\"],[0.2222222222222222,\"#7201a8\"],[0.3333333333333333,\"#9c179e\"],[0.4444444444444444,\"#bd3786\"],[0.5555555555555556,\"#d8576b\"],[0.6666666666666666,\"#ed7953\"],[0.7777777777777778,\"#fb9f3a\"],[0.8888888888888888,\"#fdca26\"],[1.0,\"#f0f921\"]]},\"legend\":{\"tracegroupgap\":0},\"title\":{\"text\":\"Heat Map of Countries using 'Best Startup Countries' Total Scores and 'Best Startup City' Count\"}},                        {\"responsive\": true}                    ).then(function(){\n",
       "                            \n",
       "var gd = document.getElementById('8aba7b90-3242-48d7-9914-df0faa679284');\n",
       "var x = new MutationObserver(function (mutations, observer) {{\n",
       "        var display = window.getComputedStyle(gd).display;\n",
       "        if (!display || display === 'none') {{\n",
       "            console.log([gd, 'removed!']);\n",
       "            Plotly.purge(gd);\n",
       "            observer.disconnect();\n",
       "        }}\n",
       "}});\n",
       "\n",
       "// Listen for the removal of the full notebook cells\n",
       "var notebookContainer = gd.closest('#notebook-container');\n",
       "if (notebookContainer) {{\n",
       "    x.observe(notebookContainer, {childList: true});\n",
       "}}\n",
       "\n",
       "// Listen for the clearing of the current output cell\n",
       "var outputEl = gd.closest('.output');\n",
       "if (outputEl) {{\n",
       "    x.observe(outputEl, {childList: true});\n",
       "}}\n",
       "\n",
       "                        })                };                });            </script>        </div>"
      ]
     },
     "metadata": {},
     "output_type": "display_data"
    }
   ],
   "source": [
    "import plotly.express as px\n",
    "import pandas as pd\n",
    "\n",
    "bestcountries = pd.read_csv(r'C:\\Users\\brenda\\AppData\\Roaming\\Microsoft\\Windows\\Start Menu\\Programs\\Anaconda3 (64-bit)\\Best_Countries_for_Startups.csv')\n",
    "\n",
    "\n",
    "\n",
    "#bringing in best cities for startups data, to merge to the best countries data\n",
    "bestcities = pd.read_csv(r'C:\\Users\\brenda\\AppData\\Roaming\\Microsoft\\Windows\\Start Menu\\Programs\\Anaconda3 (64-bit)\\Best_Cities_for_Startups.csv')\n",
    "\n",
    "#counting the amount of best cities, by country\n",
    "bestcities = bestcities['country'].value_counts() \n",
    "bestcities = pd.DataFrame (data = bestcities)\n",
    "bestcities = bestcities.reset_index()\n",
    "bestcities.rename({'index': 'country', 'country': 'citycount'}, axis=1, inplace=True)\n",
    "\n",
    "#had to do a little bit of dtype and regex cleaning in order to get the merge to work\n",
    "bestcountries['country'] = bestcountries['country'].astype(str)\n",
    "bestcities['country'] = bestcities['country'].astype(str)\n",
    "bestcountries ['country'].replace(r\"^ +| +$\", r\"\", regex=True, inplace=True)\n",
    "bestcities['country'].replace(r\"^ +| +$\", r\"\", regex=True, inplace=True)\n",
    "\n",
    "\n",
    "bestcountries = pd.merge(bestcountries, bestcities, how=\"left\", on=[\"country\"])\n",
    "#print (bestcountries.head (n = 10))\n",
    "\n",
    "\n",
    "#mapping the merged dataframes on a world map in order to visually demonstrate top countries by total score and count of best cities\n",
    "fig = px.choropleth(bestcountries, locations= \"country\", locationmode='country names',\n",
    "                    color=\"total score\", \n",
    "                    hover_name=bestcountries[\"citycount\"], title = \"Heat Map of Countries using 'Best Startup Countries' Total Scores and 'Best Startup City' Count\",\n",
    "                    color_continuous_scale=px.colors.sequential.Plasma)\n",
    "fig.show()\n"
   ]
  },
  {
   "cell_type": "code",
   "execution_count": 20,
   "metadata": {},
   "outputs": [
    {
     "data": {
      "image/png": "[encoded data removed]",
      "text/plain": [
       "<Figure size 432x288 with 1 Axes>"
      ]
     },
     "metadata": {
      "needs_background": "light"
     },
     "output_type": "display_data"
    }
   ],
   "source": [
    "from matplotlib import pyplot\n",
    "\n",
    "\n",
    "\n",
    "bestcities = pd.read_csv(r'C:\\Users\\brenda\\AppData\\Roaming\\Microsoft\\Windows\\Start Menu\\Programs\\Anaconda3 (64-bit)\\Best_Cities_for_Startups.csv')\n",
    "citypop = pd.read_csv(r'C:\\Users\\brenda\\AppData\\Roaming\\Microsoft\\Windows\\Start Menu\\Programs\\Anaconda3 (64-bit)\\City_Populations.csv')\n",
    "\n",
    "#Need to clean up city names on both of these data sets in order to merge\n",
    "#Because there is no unique identifier in the city populations data set, decided to create a unique identifier to use for merging - this unique identifier is a combination of city and country\n",
    "#This becomes an actual unique identifier later, when I order the dataset and eliminate duplicates\n",
    "citypop[\"City\"] = citypop[\"City\"]. str. lower()\n",
    "citypop['City'] = citypop['City'].str.replace(r\"'\", '')\n",
    "\n",
    "citypop [['popcities', 'city2']] = citypop[\"City\"].str.split(\"(\", n = 1, expand=True)\n",
    "citypop ['popcities'].replace(r\"^ +| +$\", r\"\", regex=True, inplace=True)\n",
    "\n",
    "\n",
    "citypop [['Country1', 'Country2', 'Country']] = citypop['Country or Area'].str.split(\" \", n = 2, expand=True)\n",
    "citypop ['countryfinal'] = citypop[\"Country1\"].fillna('') + \" \" + citypop ['Country2'].fillna('')\n",
    "\n",
    "\n",
    "citypop ['popcitycountry'] = citypop[\"popcities\"].fillna('') +\" \" + citypop ['countryfinal']\n",
    "citypop [\"popcitycountry\"] = citypop[\"popcitycountry\"]. str. lower()\n",
    "citypop ['popcitycountry'].replace(r\"^ +| +$\", r\"\", regex=True, inplace=True)\n",
    "\n",
    "\n",
    "bestcities [['cities', 'pt2', 'pt3']] = bestcities[\"city\"].str.split(' ', n = 2, expand=True)\n",
    "bestcities ['country'].replace(r\"^ +| +$\", r\"\", regex=True, inplace=True)\n",
    "\n",
    "bestcities ['cityfinal'] = bestcities[\"cities\"].fillna('')+ \" \" +bestcities[\"pt2\"].fillna('')\n",
    "bestcities ['cityfinal'].replace(r\"^ +| +$\", r\"\", regex=True, inplace=True)\n",
    "\n",
    "bestcities ['citycountry'] = bestcities[\"cityfinal\"].fillna('')+ \" \" + bestcities ['country']\n",
    "\n",
    "bestcities[\"citycountry\"] = bestcities[\"citycountry\"]. str. lower()\n",
    "\n",
    "#sorting the city population data set by year and eliminating duplicates\n",
    "citypop.sort_values(by=['Year'], ascending = False)\n",
    "citypop = citypop.drop_duplicates(subset=['popcitycountry'])\n",
    "\n",
    "#some more cleaning prior to merge\n",
    "bestcities ['citycountry'].replace(r\"^ +| +$\", r\"\", regex=True, inplace=True)\n",
    "\n",
    "#this merge returns 544 matches, these are very difficult to clean up. Here is an example of something that I just can't clean up using Python (although there may be a library for this): Mbabane is a city in Eswatini (previously called Swaziland)\n",
    "citywithpop = pd.merge(bestcities, citypop, how = 'left', left_on = 'citycountry', right_on = 'popcitycountry')\n",
    "\n",
    "#had to somewhat manually clean this data set due to aforementioned issues with merging/cleaning data [for my purposes, I only needed the top 100 or so cities]\n",
    "#dropping items where there is no match, then dropping all but the top 100 cities:\n",
    "#(I only manually cleaned 20-30% of the top 100 city/country fields)\n",
    "citywithpop = citywithpop.dropna (subset =['Value'])\n",
    "\n",
    "citywithpop.sort_values(by=['position'], ascending = True)\n",
    "\n",
    "citywithpop = citywithpop.head (n = 100)\n",
    "\n",
    "#Want to build a visual representation to demonstrate any possible correlation between population and top cities position and to identify outliers\n",
    "pyplot.scatter(citywithpop['position'], citywithpop['Value'], alpha=0.5)\n",
    "pyplot.title (\"Top 100 Startup Cities by Population and Position\")\n",
    "pyplot.xlabel (\"Position\")\n",
    "pyplot.ylabel (\"Population (10s of Millions)\")\n",
    "pyplot.show()"
   ]
  },
  {
   "cell_type": "code",
   "execution_count": null,
   "metadata": {},
   "outputs": [],
   "source": [
    "print(citypop['popcities'].loc[[21813]])\n"
   ]
  }
 ],
 "metadata": {
  "kernelspec": {
   "display_name": "Python 3",
   "language": "python",
   "name": "python3"
  },
  "language_info": {
   "codemirror_mode": {
    "name": "ipython",
    "version": 3
   },
   "file_extension": ".py",
   "mimetype": "text/x-python",
   "name": "python",
   "nbconvert_exporter": "python",
   "pygments_lexer": "ipython3",
   "version": "3.7.4"
  }
 },
 "nbformat": 4,
 "nbformat_minor": 2
}
